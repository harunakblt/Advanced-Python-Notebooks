{
 "cells": [
  {
   "cell_type": "markdown",
   "metadata": {},
   "source": [
    "[1,5,6,7,12,14,15,18,19,32,25] listesinin tek elemanlarının karesini, çift elemanlarının 2 katını liste halinde döndüren while döngüsünü yazın"
   ]
  },
  {
   "cell_type": "code",
   "execution_count": 3,
   "metadata": {},
   "outputs": [
    {
     "name": "stdout",
     "output_type": "stream",
     "text": [
      "[1, 25, 12, 49, 24, 28, 225, 36, 361, 64, 625]\n"
     ]
    }
   ],
   "source": [
    "sayılar_listesi = [1,5,6,7,12,14,15,18,19,32,25]\n",
    "\n",
    "x = 0\n",
    "\n",
    "sonuç_listesi = []\n",
    "\n",
    "while x < len(sayılar_listesi):\n",
    "\n",
    "    if sayılar_listesi[x] % 2:\n",
    "        sonuç_listesi.append(sayılar_listesi[x] ** 2)\n",
    "    \n",
    "    else:\n",
    "        sonuç_listesi.append(sayılar_listesi[x] * 2)\n",
    "\n",
    "    x += 1\n",
    "\n",
    "print(sonuç_listesi)\n"
   ]
  },
  {
   "cell_type": "code",
   "execution_count": 2,
   "metadata": {},
   "outputs": [
    {
     "data": {
      "text/plain": [
       "1"
      ]
     },
     "execution_count": 2,
     "metadata": {},
     "output_type": "execute_result"
    }
   ],
   "source": [
    "7 % 2"
   ]
  },
  {
   "cell_type": "markdown",
   "metadata": {},
   "source": [
    "## random modülü"
   ]
  },
  {
   "cell_type": "code",
   "execution_count": null,
   "metadata": {},
   "outputs": [],
   "source": [
    "random."
   ]
  },
  {
   "cell_type": "code",
   "execution_count": 1,
   "metadata": {},
   "outputs": [],
   "source": [
    "import random  # import ifadesi modülü notebook a aktarmak için kullanılır. "
   ]
  },
  {
   "cell_type": "code",
   "execution_count": 10,
   "metadata": {},
   "outputs": [
    {
     "data": {
      "text/plain": [
       "0.17111337560380402"
      ]
     },
     "execution_count": 10,
     "metadata": {},
     "output_type": "execute_result"
    }
   ],
   "source": [
    "random.random() # 0 dahil 1 dahil değil - arasında sayılar üretir."
   ]
  },
  {
   "cell_type": "code",
   "execution_count": 14,
   "metadata": {},
   "outputs": [
    {
     "data": {
      "text/plain": [
       "0.6394267984578837"
      ]
     },
     "execution_count": 14,
     "metadata": {},
     "output_type": "execute_result"
    }
   ],
   "source": [
    "random.seed(42)\n",
    "random.random()"
   ]
  },
  {
   "cell_type": "code",
   "execution_count": 19,
   "metadata": {},
   "outputs": [
    {
     "data": {
      "text/plain": [
       "0.6766994874229113"
      ]
     },
     "execution_count": 19,
     "metadata": {},
     "output_type": "execute_result"
    }
   ],
   "source": [
    "random.random()"
   ]
  },
  {
   "cell_type": "code",
   "execution_count": 44,
   "metadata": {},
   "outputs": [
    {
     "data": {
      "text/plain": [
       "4"
      ]
     },
     "execution_count": 44,
     "metadata": {},
     "output_type": "execute_result"
    }
   ],
   "source": [
    "random.randint(3,10) # int değerler üretir. "
   ]
  },
  {
   "cell_type": "code",
   "execution_count": 45,
   "metadata": {},
   "outputs": [
    {
     "data": {
      "text/plain": [
       "[22, 48, 38, 16, 2, 29]"
      ]
     },
     "execution_count": 45,
     "metadata": {},
     "output_type": "execute_result"
    }
   ],
   "source": [
    "random.sample(range(49), 6) # belirtilen aralık ta belirtilen sayı kadar rastgle üretir. "
   ]
  },
  {
   "cell_type": "code",
   "execution_count": 46,
   "metadata": {},
   "outputs": [],
   "source": [
    "liste= [\"murat\", 15, 3.14, \"cenk\", False]"
   ]
  },
  {
   "cell_type": "code",
   "execution_count": 47,
   "metadata": {},
   "outputs": [
    {
     "data": {
      "text/plain": [
       "[False, 'murat']"
      ]
     },
     "execution_count": 47,
     "metadata": {},
     "output_type": "execute_result"
    }
   ],
   "source": [
    "random.sample(liste, 2)"
   ]
  },
  {
   "cell_type": "code",
   "execution_count": 48,
   "metadata": {},
   "outputs": [],
   "source": [
    "dict= {\"a\": 1, \"b\":2, \"c\":3}"
   ]
  },
  {
   "cell_type": "code",
   "execution_count": 49,
   "metadata": {},
   "outputs": [
    {
     "ename": "TypeError",
     "evalue": "Population must be a sequence.  For dicts or sets, use sorted(d).",
     "output_type": "error",
     "traceback": [
      "\u001b[1;31m---------------------------------------------------------------------------\u001b[0m",
      "\u001b[1;31mTypeError\u001b[0m                                 Traceback (most recent call last)",
      "Cell \u001b[1;32mIn[49], line 1\u001b[0m\n\u001b[1;32m----> 1\u001b[0m \u001b[43mrandom\u001b[49m\u001b[38;5;241;43m.\u001b[39;49m\u001b[43msample\u001b[49m\u001b[43m(\u001b[49m\u001b[38;5;28;43mdict\u001b[39;49m\u001b[43m,\u001b[49m\u001b[43m \u001b[49m\u001b[38;5;241;43m2\u001b[39;49m\u001b[43m)\u001b[49m\n",
      "File \u001b[1;32mc:\\Users\\a\\anaconda3\\lib\\random.py:466\u001b[0m, in \u001b[0;36mRandom.sample\u001b[1;34m(self, population, k, counts)\u001b[0m\n\u001b[0;32m    464\u001b[0m         population \u001b[38;5;241m=\u001b[39m \u001b[38;5;28mtuple\u001b[39m(population)\n\u001b[0;32m    465\u001b[0m     \u001b[38;5;28;01melse\u001b[39;00m:\n\u001b[1;32m--> 466\u001b[0m         \u001b[38;5;28;01mraise\u001b[39;00m \u001b[38;5;167;01mTypeError\u001b[39;00m(\u001b[38;5;124m\"\u001b[39m\u001b[38;5;124mPopulation must be a sequence.  For dicts or sets, use sorted(d).\u001b[39m\u001b[38;5;124m\"\u001b[39m)\n\u001b[0;32m    467\u001b[0m n \u001b[38;5;241m=\u001b[39m \u001b[38;5;28mlen\u001b[39m(population)\n\u001b[0;32m    468\u001b[0m \u001b[38;5;28;01mif\u001b[39;00m counts \u001b[38;5;129;01mis\u001b[39;00m \u001b[38;5;129;01mnot\u001b[39;00m \u001b[38;5;28;01mNone\u001b[39;00m:\n",
      "\u001b[1;31mTypeError\u001b[0m: Population must be a sequence.  For dicts or sets, use sorted(d)."
     ]
    }
   ],
   "source": [
    "random.sample(dict, 2)"
   ]
  },
  {
   "cell_type": "code",
   "execution_count": 51,
   "metadata": {},
   "outputs": [
    {
     "name": "stdout",
     "output_type": "stream",
     "text": [
      "Girdiğiniz sayı: 50. Tahminini azalt\n",
      "Girdiğiniz sayı: 50. Tahminini azalt\n",
      "Girdiğiniz sayı: 25. Tahminini azalt\n",
      "Girdiğiniz sayı: 12. Tahminini azalt\n",
      "Girdiğiniz sayı: 6. Tahminini arttır\n",
      "Girdiğiniz sayı: 6. Tahminini arttır\n",
      "Girdiğiniz sayı: 9. Tahminini arttır\n",
      "Girdiğiniz sayı: 9. Tahminini arttır\n",
      "Girdiğiniz sayı: 10. Tahminini arttır\n",
      "Girdiğiniz sayı: 10. Tahminini arttır\n",
      "Girdiğiniz sayı: 11. Doğru bildiniz. Tebrikler.\n"
     ]
    }
   ],
   "source": [
    "y = True\n",
    "import random\n",
    "\n",
    "aklımdaki_sayı = random.randint(1,100)\n",
    "\n",
    "while y:\n",
    "\n",
    "    tahmin = int(input(\"1 ile 100 arasında bir sayı tuttum tahmin et. \"))\n",
    "\n",
    "    if aklımdaki_sayı < tahmin:\n",
    "        print(f\"Girdiğiniz sayı: {tahmin}. Tahminini azalt\")\n",
    "\n",
    "    elif aklımdaki_sayı > tahmin: \n",
    "        print(f\"Girdiğiniz sayı: {tahmin}. Tahminini arttır\")\n",
    "\n",
    "    else:\n",
    "        print(f\"Girdiğiniz sayı: {tahmin}. Doğru bildiniz. Tebrikler.\")\n",
    "        y = False"
   ]
  },
  {
   "cell_type": "markdown",
   "metadata": {},
   "source": [
    "## break, contunie"
   ]
  },
  {
   "cell_type": "code",
   "execution_count": 52,
   "metadata": {},
   "outputs": [
    {
     "name": "stdout",
     "output_type": "stream",
     "text": [
      "Girdiğiniz sayı: 67. Tahminini arttır\n",
      "Girdiğiniz sayı: 71. Doğru bildiniz. Tebrikler.\n"
     ]
    }
   ],
   "source": [
    "import random\n",
    "\n",
    "aklımdaki_sayı = random.randint(1,100)\n",
    "\n",
    "while True:\n",
    "\n",
    "    tahmin = int(input(\"1 ile 100 arasında bir sayı tuttum tahmin et. \"))\n",
    "\n",
    "    if aklımdaki_sayı < tahmin:\n",
    "        print(f\"Girdiğiniz sayı: {tahmin}. Tahminini azalt\")\n",
    "\n",
    "    elif aklımdaki_sayı > tahmin: \n",
    "        print(f\"Girdiğiniz sayı: {tahmin}. Tahminini arttır\")\n",
    "\n",
    "    else:\n",
    "        print(f\"Girdiğiniz sayı: {tahmin}. Doğru bildiniz. Tebrikler.\")\n",
    "        break\n",
    "        "
   ]
  },
  {
   "cell_type": "code",
   "execution_count": null,
   "metadata": {},
   "outputs": [],
   "source": [
    "aklımdaki_sayı = 68\n",
    "\n",
    "sayaç = 0\n",
    "\n",
    "while True:\n",
    "\n",
    "    tahmin = int(input(\"1 ile 100 arasında bir sayı tuttum tahmin et. \"))\n",
    "    sayaç += 1\n",
    "\n",
    "    if aklımdaki_sayı < tahmin:\n",
    "        print(f\"Girdiğiniz sayı: {tahmin}. Tahminini azalt.Kalan hakkınız: {5 - sayaç}\")\n",
    "\n",
    "    elif aklımdaki_sayı > tahmin: \n",
    "        print(f\"Girdiğiniz sayı: {tahmin}. Tahminini arttır.Kalan hakkınız: {5 - sayaç}\")\n",
    "\n",
    "    else:\n",
    "        print(f\"Girdiğiniz sayı: {tahmin}. {sayaç} kerede bildiniz. Tebrikler.\")\n",
    "        break\n",
    "\n",
    "    if sayaç == 5:\n",
    "        break"
   ]
  },
  {
   "cell_type": "code",
   "execution_count": 53,
   "metadata": {},
   "outputs": [
    {
     "name": "stdout",
     "output_type": "stream",
     "text": [
      "Girdiğiniz sayı: 25. Tahminini arttır.\n",
      "Girdiğiniz sayı: 38. Tahminini arttır.\n",
      "Girdiğiniz sayı: 68. Tebrikler.\n"
     ]
    }
   ],
   "source": [
    "aklımdaki_sayı = 68\n",
    "\n",
    "x = 1\n",
    "\n",
    "while x <= 5:\n",
    "\n",
    "    tahmin = int(input(\"1 ile 100 arasında bir sayı tuttum tahmin et. \"))\n",
    "    \n",
    "\n",
    "    if aklımdaki_sayı < tahmin:\n",
    "        print(f\"Girdiğiniz sayı: {tahmin}. Tahminini azalt.\")\n",
    "\n",
    "    elif aklımdaki_sayı > tahmin: \n",
    "        print(f\"Girdiğiniz sayı: {tahmin}. Tahminini arttır.\")\n",
    "\n",
    "    else:\n",
    "        print(f\"Girdiğiniz sayı: {tahmin}. Tebrikler.\")\n",
    "        break\n",
    "\n",
    "    x += 1\n",
    "    "
   ]
  },
  {
   "cell_type": "markdown",
   "metadata": {},
   "source": [
    "liste = [1, 2, 3, 4, \"Techpro\", 5, 6, 7] # sırayla int değerleri toplayın. str ifadeye denk gelince kod sonlansın"
   ]
  },
  {
   "cell_type": "code",
   "execution_count": 54,
   "metadata": {},
   "outputs": [
    {
     "name": "stdout",
     "output_type": "stream",
     "text": [
      "10\n"
     ]
    }
   ],
   "source": [
    "liste = [1, 2, 3, 4, \"Techpro\", 5, 6, 7]\n",
    "\n",
    "x = 0\n",
    "\n",
    "toplam = 0\n",
    "\n",
    "while x < len(liste):\n",
    "\n",
    "    if type(liste[x]) == int:\n",
    "        toplam += liste[x]\n",
    "\n",
    "    elif type(liste[x]) == str:\n",
    "\n",
    "        break\n",
    "\n",
    "    x += 1\n",
    "\n",
    "print(toplam)"
   ]
  },
  {
   "cell_type": "markdown",
   "metadata": {},
   "source": [
    "# sırayla int değerleri toplayın. str ifadeye denk gelince o ifedayi atlayın ve toplamaya devam edin."
   ]
  },
  {
   "cell_type": "code",
   "execution_count": 56,
   "metadata": {},
   "outputs": [
    {
     "name": "stdout",
     "output_type": "stream",
     "text": [
      "28\n"
     ]
    }
   ],
   "source": [
    "liste = [1, 2, 3, 4, \"Techpro\", 5, 6, 7]\n",
    "\n",
    "x = 0\n",
    "\n",
    "toplam = 0\n",
    "\n",
    "while x < len(liste):\n",
    "\n",
    "    if type(liste[x]) == int:\n",
    "        toplam += liste[x]\n",
    "\n",
    "    elif type(liste[x]) == str:\n",
    "        x += 1\n",
    "        continue\n",
    "\n",
    "    x += 1\n",
    "\n",
    "print(toplam)\n"
   ]
  },
  {
   "cell_type": "code",
   "execution_count": 59,
   "metadata": {},
   "outputs": [],
   "source": [
    "for i in range(5):\n",
    "    pass\n"
   ]
  },
  {
   "cell_type": "markdown",
   "metadata": {},
   "source": [
    "# for"
   ]
  },
  {
   "cell_type": "code",
   "execution_count": 60,
   "metadata": {},
   "outputs": [
    {
     "data": {
      "text/plain": [
       "False"
      ]
     },
     "execution_count": 60,
     "metadata": {},
     "output_type": "execute_result"
    }
   ],
   "source": [
    "\"a\" in \"techpro\""
   ]
  },
  {
   "cell_type": "code",
   "execution_count": 61,
   "metadata": {},
   "outputs": [
    {
     "data": {
      "text/plain": [
       "True"
      ]
     },
     "execution_count": 61,
     "metadata": {},
     "output_type": "execute_result"
    }
   ],
   "source": [
    "\"e\" in \"techpro\""
   ]
  },
  {
   "cell_type": "code",
   "execution_count": 62,
   "metadata": {},
   "outputs": [
    {
     "name": "stdout",
     "output_type": "stream",
     "text": [
      "t\n",
      "e\n",
      "c\n",
      "h\n",
      "p\n",
      "r\n",
      "o\n"
     ]
    }
   ],
   "source": [
    "for i in \"techpro\": # for döngüsü iterable lar ile çalışır. \n",
    "    print(i)"
   ]
  },
  {
   "cell_type": "code",
   "execution_count": 64,
   "metadata": {},
   "outputs": [
    {
     "name": "stdout",
     "output_type": "stream",
     "text": [
      "tt\n",
      "ee\n",
      "cc\n",
      "hh\n",
      "pp\n",
      "rr\n",
      "oo\n"
     ]
    }
   ],
   "source": [
    "for i in \"techpro\": # for döngüsü iterable lar ile çalışır. \n",
    "    print(i * 2)"
   ]
  },
  {
   "cell_type": "code",
   "execution_count": 65,
   "metadata": {},
   "outputs": [
    {
     "name": "stdout",
     "output_type": "stream",
     "text": [
      "tt\n",
      "ee\n",
      "cc\n",
      "hh\n",
      "pp\n",
      "rr\n",
      "oo\n"
     ]
    }
   ],
   "source": [
    "for k in \"techpro\": # for döngüsü iterable lar ile çalışır. \n",
    "    print(k * 2)"
   ]
  },
  {
   "cell_type": "code",
   "execution_count": 67,
   "metadata": {},
   "outputs": [
    {
     "name": "stdout",
     "output_type": "stream",
     "text": [
      "tt\n",
      "ee\n",
      "cc\n",
      "hh\n",
      "pp\n",
      "rr\n",
      "oo\n"
     ]
    }
   ],
   "source": [
    "for t in \"techpro\": # for döngüsü iterable lar ile çalışır. \n",
    "    print(t * 2)"
   ]
  },
  {
   "cell_type": "code",
   "execution_count": 69,
   "metadata": {},
   "outputs": [
    {
     "name": "stdout",
     "output_type": "stream",
     "text": [
      "1\n",
      "4\n",
      "9\n",
      "16\n",
      "25\n"
     ]
    }
   ],
   "source": [
    "liste_2 = [1, 2, 3, 4, 5]\n",
    "\n",
    "for i in liste_2:\n",
    "    print(i ** 2)\n"
   ]
  },
  {
   "cell_type": "code",
   "execution_count": 70,
   "metadata": {},
   "outputs": [
    {
     "name": "stdout",
     "output_type": "stream",
     "text": [
      "1\n",
      "4\n",
      "9\n",
      "16\n",
      "25\n"
     ]
    }
   ],
   "source": [
    "x = 0\n",
    "\n",
    "while x < len(liste_2):\n",
    "\n",
    "    print(liste_2[x] ** 2)\n",
    "\n",
    "    x += 1"
   ]
  },
  {
   "cell_type": "code",
   "execution_count": 71,
   "metadata": {},
   "outputs": [
    {
     "name": "stdout",
     "output_type": "stream",
     "text": [
      "1 sayısının karesi: 1\n",
      "2 sayısının karesi: 4\n",
      "3 sayısının karesi: 9\n",
      "4 sayısının karesi: 16\n",
      "5 sayısının karesi: 25\n"
     ]
    }
   ],
   "source": [
    "tuple_1 = (1,2,3,4,5)\n",
    "\n",
    "for i in tuple_1:\n",
    "    print(f\"{i} sayısının karesi: {i ** 2}\")"
   ]
  },
  {
   "cell_type": "code",
   "execution_count": 73,
   "metadata": {},
   "outputs": [
    {
     "name": "stdout",
     "output_type": "stream",
     "text": [
      "Ahmet\n",
      "Bahar\n",
      "Hakan\n",
      "Hamdi\n"
     ]
    }
   ],
   "source": [
    "isimler_listesi = [\"ahmet\", \"bahar\", \"hakan\", \"hamdi\"]\n",
    "\n",
    "for i in isimler_listesi:\n",
    "    print(i.capitalize())"
   ]
  },
  {
   "cell_type": "code",
   "execution_count": 75,
   "metadata": {},
   "outputs": [
    {
     "name": "stdout",
     "output_type": "stream",
     "text": [
      "['Ahmet', 'Bahar', 'Hakan', 'Hamdi']\n"
     ]
    }
   ],
   "source": [
    "isimler_listesi = [\"ahmet\", \"bahar\", \"hakan\", \"hamdi\"]\n",
    "\n",
    "düzeltilmiş_isim_listesi = []\n",
    "\n",
    "for i in isimler_listesi:\n",
    "    düzeltilmiş_isim_listesi.append(i.capitalize())\n",
    "\n",
    "print(düzeltilmiş_isim_listesi)\n",
    "\n"
   ]
  },
  {
   "cell_type": "code",
   "execution_count": null,
   "metadata": {},
   "outputs": [],
   "source": [
    "\"Techpro\" >>>>> \"T-e-c-h-p-r-o\""
   ]
  },
  {
   "cell_type": "code",
   "execution_count": 76,
   "metadata": {},
   "outputs": [
    {
     "name": "stdout",
     "output_type": "stream",
     "text": [
      "T-e-c-h-p-r-o-"
     ]
    }
   ],
   "source": [
    "for i in \"Techpro\":\n",
    "    print(i, end= \"-\")"
   ]
  },
  {
   "cell_type": "code",
   "execution_count": 78,
   "metadata": {},
   "outputs": [
    {
     "name": "stdout",
     "output_type": "stream",
     "text": [
      "T-e-c-h-p-r-o\n"
     ]
    }
   ],
   "source": [
    "new_str = \"\"\n",
    "\n",
    "for i in \"Techpro\":\n",
    "    new_str += i + \"-\"\n",
    "\n",
    "print(new_str.rstrip(\"-\"))"
   ]
  },
  {
   "cell_type": "code",
   "execution_count": 79,
   "metadata": {},
   "outputs": [
    {
     "name": "stdout",
     "output_type": "stream",
     "text": [
      "T\n",
      "e\n",
      "c\n",
      "h\n",
      "p\n",
      "r\n",
      "o\n"
     ]
    }
   ],
   "source": [
    "for i in \"Techpro\":\n",
    "    print(i)"
   ]
  },
  {
   "cell_type": "markdown",
   "metadata": {},
   "source": [
    "## min(), max()"
   ]
  },
  {
   "cell_type": "code",
   "execution_count": 80,
   "metadata": {},
   "outputs": [],
   "source": [
    "liste_3 = [2, 5, 1, 3, 9, 4, 6, 8, 15, 48, 256]"
   ]
  },
  {
   "cell_type": "code",
   "execution_count": 81,
   "metadata": {},
   "outputs": [
    {
     "data": {
      "text/plain": [
       "1"
      ]
     },
     "execution_count": 81,
     "metadata": {},
     "output_type": "execute_result"
    }
   ],
   "source": [
    "min(liste_3)"
   ]
  },
  {
   "cell_type": "code",
   "execution_count": 82,
   "metadata": {},
   "outputs": [
    {
     "data": {
      "text/plain": [
       "256"
      ]
     },
     "execution_count": 82,
     "metadata": {},
     "output_type": "execute_result"
    }
   ],
   "source": [
    "max(liste_3)"
   ]
  },
  {
   "cell_type": "code",
   "execution_count": 84,
   "metadata": {},
   "outputs": [
    {
     "data": {
      "text/plain": [
       "'hakan'"
      ]
     },
     "execution_count": 84,
     "metadata": {},
     "output_type": "execute_result"
    }
   ],
   "source": [
    "min([\"hakan\", \"yunus\", \"yasin\"])"
   ]
  },
  {
   "cell_type": "code",
   "execution_count": 85,
   "metadata": {},
   "outputs": [
    {
     "ename": "TypeError",
     "evalue": "'<' not supported between instances of 'int' and 'str'",
     "output_type": "error",
     "traceback": [
      "\u001b[1;31m---------------------------------------------------------------------------\u001b[0m",
      "\u001b[1;31mTypeError\u001b[0m                                 Traceback (most recent call last)",
      "Cell \u001b[1;32mIn[85], line 1\u001b[0m\n\u001b[1;32m----> 1\u001b[0m \u001b[38;5;28;43mmin\u001b[39;49m\u001b[43m(\u001b[49m\u001b[43m[\u001b[49m\u001b[38;5;124;43m\"\u001b[39;49m\u001b[38;5;124;43mhakan\u001b[39;49m\u001b[38;5;124;43m\"\u001b[39;49m\u001b[43m,\u001b[49m\u001b[43m \u001b[49m\u001b[38;5;124;43m\"\u001b[39;49m\u001b[38;5;124;43myunus\u001b[39;49m\u001b[38;5;124;43m\"\u001b[39;49m\u001b[43m,\u001b[49m\u001b[43m \u001b[49m\u001b[38;5;124;43m\"\u001b[39;49m\u001b[38;5;124;43myasin\u001b[39;49m\u001b[38;5;124;43m\"\u001b[39;49m\u001b[43m,\u001b[49m\u001b[43m \u001b[49m\u001b[38;5;241;43m15\u001b[39;49m\u001b[43m]\u001b[49m\u001b[43m)\u001b[49m\n",
      "\u001b[1;31mTypeError\u001b[0m: '<' not supported between instances of 'int' and 'str'"
     ]
    }
   ],
   "source": [
    "min([\"hakan\", \"yunus\", \"yasin\", 15])"
   ]
  },
  {
   "cell_type": "markdown",
   "metadata": {},
   "source": [
    "liste_1 = [4,5,6,9,85,23,65,47,32,91] listenin en küçük ve en büyük elemanını min ve max fpnksiyonu kullanmadan bulun. sort fonk da kullanmayın. while ile min değeri for ile max değeri bulun. "
   ]
  }
 ],
 "metadata": {
  "kernelspec": {
   "display_name": "base",
   "language": "python",
   "name": "python3"
  },
  "language_info": {
   "codemirror_mode": {
    "name": "ipython",
    "version": 3
   },
   "file_extension": ".py",
   "mimetype": "text/x-python",
   "name": "python",
   "nbconvert_exporter": "python",
   "pygments_lexer": "ipython3",
   "version": "3.10.9"
  }
 },
 "nbformat": 4,
 "nbformat_minor": 2
}
